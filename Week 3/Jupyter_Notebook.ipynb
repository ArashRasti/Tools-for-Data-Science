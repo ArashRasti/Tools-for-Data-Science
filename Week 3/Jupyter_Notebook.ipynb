{
  "cells": [
    {
      "cell_type": "markdown",
      "metadata": {
        "id": "h6B64kaGwlbx"
      },
      "source": [
        "<center>\n",
        "    <img src=\"https://cf-courses-data.s3.us.cloud-object-storage.appdomain.cloud/IBMDeveloperSkillsNetwork-DS0105EN-SkillsNetwork/labs/Module2/images/SN_web_lightmode.png\" width=\"300\" alt=\"cognitiveclass.ai logo\"  />\n",
        "</center>\n"
      ]
    },
    {
      "cell_type": "markdown",
      "source": [
        "# My Jupyter Notebook on IBM Watson Studio"
      ],
      "metadata": {
        "id": "5dAXHo_Yw4yW"
      }
    },
    {
      "cell_type": "markdown",
      "metadata": {
        "id": "dG-vbnTawlbz"
      },
      "source": [
        "#### Add your code below following the instructions given in the course\n"
      ]
    },
    {
      "cell_type": "markdown",
      "source": [
        "**Arash Rasti Najafabadi**\n",
        "\n",
        "Software Developer"
      ],
      "metadata": {
        "id": "0kPC7N68xQOk"
      }
    },
    {
      "cell_type": "markdown",
      "source": [
        "*I am interested in data science because I love to work with data*"
      ],
      "metadata": {
        "id": "4SROBBB5xd9U"
      }
    },
    {
      "cell_type": "markdown",
      "source": [
        "### cell5 will Print \"Hello World\""
      ],
      "metadata": {
        "id": "jhy2_wgix9Jw"
      }
    },
    {
      "cell_type": "code",
      "execution_count": null,
      "metadata": {
        "id": "WLOT4462wlb0"
      },
      "outputs": [],
      "source": [
        "print(\"Hello World\")"
      ]
    },
    {
      "cell_type": "markdown",
      "source": [
        "\n",
        "\n",
        "---\n",
        "Hello World,\n",
        "\n",
        "> I am Arash\n",
        "\n",
        "\n",
        "1.   My GitHub : https://github.com/ArashRasti/\n",
        "2.   Email : arashrasti5@gmail.com\n",
        "\n",
        "Code syntax:\n",
        "\n",
        "`print(\"Hello World\")`\n",
        "\n",
        "\n",
        "\n",
        "*   List item1\n",
        "*   List item2\n",
        "\n",
        "\n",
        "\n",
        "\n",
        "\n",
        "\n",
        "\n"
      ],
      "metadata": {
        "id": "ZPrz9DIjynKJ"
      }
    }
  ],
  "metadata": {
    "kernelspec": {
      "display_name": "Python 3",
      "language": "python",
      "name": "python3"
    },
    "language_info": {
      "codemirror_mode": {
        "name": "ipython",
        "version": 3
      },
      "file_extension": ".py",
      "mimetype": "text/x-python",
      "name": "python",
      "nbconvert_exporter": "python",
      "pygments_lexer": "ipython3",
      "version": "3.7.6"
    },
    "colab": {
      "provenance": []
    }
  },
  "nbformat": 4,
  "nbformat_minor": 0
}